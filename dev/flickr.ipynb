{
 "cells": [
  {
   "cell_type": "code",
   "execution_count": 13,
   "metadata": {},
   "outputs": [],
   "source": [
    "import flickrapi\n",
    "import lxml.etree as etree\n",
    "api_key = u'f7c5459aacb640b9e51fe863a7f3732c'\n",
    "api_secret = u'6704b6a9805aefbd'\n",
    "flickr = flickrapi.FlickrAPI(api_key=api_key, secret=api_secret)"
   ]
  },
  {
   "cell_type": "code",
   "execution_count": 42,
   "metadata": {},
   "outputs": [
    {
     "name": "stdout",
     "output_type": "stream",
     "text": [
      "126\n"
     ]
    }
   ],
   "source": [
    "bbox = \"127.34637,36.32031,127.40949,36.36632\" # bbox for searching images\n",
    "tag = \"street\" # street tag\n",
    "text = \"street\"\n",
    "accuracy = \"11\" # city\n",
    "has_geo = \"1\" # need geo tagged\n",
    "geo_context = \"2\" # 2--> outdoor\n",
    "per_page = \"256\" # 256 images per page\n",
    "search = flickr.photos.search(bbox=bbox, tag=tag, text=text, accuracy=accuracy, has_geo=has_geo, geo_context=geo_context, per_page=per_page)\n",
    "photos = search.find('photos').findall('photo')\n",
    "print(len(photos))"
   ]
  },
  {
   "cell_type": "code",
   "execution_count": 72,
   "metadata": {
    "scrolled": false
   },
   "outputs": [
    {
     "name": "stdout",
     "output_type": "stream",
     "text": [
      "https://live.staticflickr.com/7824/40033096513_6e02ef4430_k.jpg\n",
      "https://live.staticflickr.com/65535/44778197271_96d6c89036_k.jpg\n",
      "https://live.staticflickr.com/1829/42363950174_31e039a265_k.jpg\n",
      "https://live.staticflickr.com/787/26298638607_8407cb1c05_h.jpg\n",
      "https://live.staticflickr.com/4551/38897520372_5156c75b41_h.jpg\n",
      "https://live.staticflickr.com/4468/37586625562_754a3050d0_b.jpg\n",
      "https://live.staticflickr.com/4496/37130703300_513c1b9fb9_b.jpg\n",
      "https://live.staticflickr.com/4407/37357280752_c76ba99f98_b.jpg\n",
      "https://live.staticflickr.com/4510/37288149276_64de646438_b.jpg\n",
      "https://live.staticflickr.com/4434/37288098986_a8aec8340b_c.jpg\n",
      "https://live.staticflickr.com/4334/23483674188_d0da237fc9_b.jpg\n",
      "https://live.staticflickr.com/4350/37305241932_50cd8fc312_b.jpg\n",
      "https://live.staticflickr.com/4332/36944854910_0b4b9e2356_h.jpg\n",
      "https://live.staticflickr.com/4414/37328160935_e90e06dbdd_b.jpg\n",
      "https://live.staticflickr.com/4421/36261662534_f36e61b88a_h.jpg\n",
      "https://live.staticflickr.com/4433/36567601101_44f2c98ee9_h.jpg\n",
      "https://live.staticflickr.com/4417/36157741682_e2b439115d_h.jpg\n",
      "https://live.staticflickr.com/8010/28851032482_00e90a0e27_c.jpg\n",
      "https://live.staticflickr.com/7320/27222198730_64a59008c4_c.jpg\n",
      "https://live.staticflickr.com/7412/27222188930_ab37177467_c.jpg\n",
      "https://live.staticflickr.com/1642/26276204251_677000f98c_c.jpg\n",
      "https://live.staticflickr.com/1600/24992736779_7ccf72f76d_k.jpg\n",
      "https://live.staticflickr.com/1613/23781722983_09dfe79984_c.jpg\n",
      "https://live.staticflickr.com/662/22276171588_ea5b20e90f_c.jpg\n",
      "https://live.staticflickr.com/650/22463848705_bd8db712f8_c.jpg\n",
      "https://live.staticflickr.com/5708/20962020679_868a7a471a_h.jpg\n",
      "https://live.staticflickr.com/568/21148833165_dbe21a873f_h.jpg\n",
      "https://live.staticflickr.com/736/20862264368_85c220db3b_h.jpg\n",
      "https://live.staticflickr.com/644/20404010173_cd7535eb9d_h.jpg\n",
      "https://live.staticflickr.com/5735/20836992500_40b876816c_h.jpg\n",
      "https://live.staticflickr.com/5824/20402435644_874d9fd552_h.jpg\n",
      "https://live.staticflickr.com/7748/17470113831_c141c37342_h.jpg\n",
      "https://live.staticflickr.com/7552/16161068530_a934f5b1fc_c.jpg\n",
      "https://live.staticflickr.com/5608/15614180409_858f1be15a_c.jpg\n",
      "https://live.staticflickr.com/7581/15113239013_77780baec7_c.jpg\n",
      "https://live.staticflickr.com/3927/15272936430_07e3dea15e_h.jpg\n",
      "https://live.staticflickr.com/3933/15272776080_ccd0a2014f_h.jpg\n",
      "https://live.staticflickr.com/3935/15272844798_33a68a54de_h.jpg\n",
      "https://live.staticflickr.com/2949/15272599300_6fa4131554_h.jpg\n",
      "https://live.staticflickr.com/3895/15013212335_b409383b53_h.jpg\n",
      "https://live.staticflickr.com/5551/14826566840_1e2dfda882_h.jpg\n",
      "https://live.staticflickr.com/3908/14826567248_f520c61018_h.jpg\n",
      "https://live.staticflickr.com/3879/14826460839_c5948c38fc_h.jpg\n",
      "https://live.staticflickr.com/3922/14973337186_f7a3c41b81_h.jpg\n",
      "https://live.staticflickr.com/5554/14808779870_fcbd9ac664_h.jpg\n",
      "https://live.staticflickr.com/3840/14808725429_49be396e68_h.jpg\n",
      "https://live.staticflickr.com/3895/14173593797_641ea898c8_c.jpg\n",
      "https://live.staticflickr.com/3727/11127206756_eab68d436f_k.jpg\n",
      "https://live.staticflickr.com/2807/10604092115_2aab28f38c_k.jpg\n",
      "https://live.staticflickr.com/8380/8559450808_bf29b4ea8a_h.jpg\n",
      "https://live.staticflickr.com/8297/7863468594_317572c439_z.jpg\n",
      "https://live.staticflickr.com/7236/7295489368_ffcd810bbf_h.jpg\n",
      "https://live.staticflickr.com/4108/4837188919_b54c35732c_3k.jpg\n",
      "https://live.staticflickr.com/4087/4837187487_cf86692252_3k.jpg\n",
      "https://live.staticflickr.com/4133/4837178823_2f23278305_3k.jpg\n",
      "https://live.staticflickr.com/2238/2089002870_a0e111cc63_k.jpg\n",
      "https://live.staticflickr.com/621/23430524635_7308b07e45_b.jpg\n",
      "https://live.staticflickr.com/5631/23430522645_1fdf9b9091_b.jpg\n",
      "https://live.staticflickr.com/7581/15303772593_7b70facc12_h.jpg\n",
      "https://live.staticflickr.com/7512/15614589098_31db743f87_c.jpg\n",
      "https://live.staticflickr.com/5613/15449231398_9b49a80d2d_k.jpg\n",
      "https://live.staticflickr.com/3956/15014602914_46eb5b5110_k.jpg\n",
      "https://live.staticflickr.com/3945/15014602114_fc4cdb2a64_3k.jpg\n",
      "https://live.staticflickr.com/5598/15014601364_70595a235b_3k.jpg\n",
      "https://live.staticflickr.com/5599/15449227438_3a50645536_k.jpg\n",
      "https://live.staticflickr.com/5603/15636194272_91328325cd_h.jpg\n",
      "https://live.staticflickr.com/5613/15632672661_dd1967059c_k.jpg\n",
      "https://live.staticflickr.com/3941/15449370467_8f22b7d6d6_h.jpg\n",
      "https://live.staticflickr.com/3950/15449226378_215eb6e14f_k.jpg\n",
      "https://live.staticflickr.com/3949/15448708659_7becdedef7_h.jpg\n",
      "https://live.staticflickr.com/3955/15409226180_384d6166c0_h.jpg\n",
      "https://live.staticflickr.com/2945/15269004639_1d7936357d_h.jpg\n",
      "https://live.staticflickr.com/2949/15214540997_6c7b9c7e4b_h.jpg\n",
      "https://live.staticflickr.com/3891/15037195860_ff676fa7dc_h.jpg\n",
      "https://live.staticflickr.com/3896/14993919408_258a739566_w.jpg\n",
      "https://live.staticflickr.com/3908/15130820001_9186115161_h.jpg\n",
      "https://live.staticflickr.com/5584/15110799156_39544309c9_h.jpg\n",
      "https://live.staticflickr.com/3877/15061234532_f230bb072b.jpg\n",
      "https://live.staticflickr.com/5554/14496936150_fa33c3b1a5_c.jpg\n",
      "https://live.staticflickr.com/7410/13853101725_7f106fd951_h.jpg\n",
      "https://live.staticflickr.com/2816/13376547913_176a021781_c.jpg\n",
      "https://live.staticflickr.com/7380/13108285073_b6eb88b43f_h.jpg\n",
      "https://live.staticflickr.com/7294/12039444886_6a35a21e1c_z.jpg\n",
      "https://live.staticflickr.com/7433/10944434064_7d7c374e90_h.jpg\n",
      "https://live.staticflickr.com/3804/10531486553_e64fa355bc_h.jpg\n",
      "https://live.staticflickr.com/7324/9780375706_f103b3c034_h.jpg\n",
      "https://live.staticflickr.com/7396/9780325745_a88359d176_k.jpg\n",
      "https://live.staticflickr.com/7316/9780099101_56d1de43c0_k.jpg\n",
      "https://live.staticflickr.com/7303/9780342863_395aa98b98_k.jpg\n",
      "https://live.staticflickr.com/3712/9660196819_276ecdd658_h.jpg\n",
      "https://live.staticflickr.com/7430/9663416036_47dc712758_h.jpg\n",
      "https://live.staticflickr.com/2881/9660180741_7808e2ac84_h.jpg\n",
      "https://live.staticflickr.com/3695/9660168085_e0d6984205_h.jpg\n",
      "https://live.staticflickr.com/2810/9660147895_dfe8051fa6_h.jpg\n",
      "https://live.staticflickr.com/7354/9660130197_0a54a887b3_h.jpg\n",
      "https://live.staticflickr.com/7328/9658095555_a7831c2e9f_h.jpg\n",
      "https://live.staticflickr.com/3711/9651803928_e39d1aa664_z.jpg\n",
      "https://live.staticflickr.com/3714/9623969003_fe17fa3018_h.jpg\n",
      "https://live.staticflickr.com/7367/9627114798_9c3a32e230_h.jpg\n",
      "https://live.staticflickr.com/5443/9443549258_e76ec69f45_b.jpg\n",
      "https://live.staticflickr.com/3682/8795631616_68b1e298c3_c.jpg\n",
      "https://live.staticflickr.com/5335/8795631278_0bc563ccea_c.jpg\n",
      "https://live.staticflickr.com/5458/8771671929_ccfbd4bef6_h.jpg\n",
      "https://live.staticflickr.com/7306/8771662583_bfd10d8840_h.jpg\n",
      "https://live.staticflickr.com/8139/8771651873_558be15094_h.jpg\n",
      "https://live.staticflickr.com/8109/8558340911_a6e8abd438_h.jpg\n",
      "https://live.staticflickr.com/8513/8559448878_76bc7b4002_h.jpg\n",
      "https://live.staticflickr.com/8482/8238906861_2ff52a3c7a_h.jpg\n",
      "https://live.staticflickr.com/8207/8195660259_28b0d6c1b3_h.jpg\n",
      "https://live.staticflickr.com/8307/7863363090_d257d5c1d7_z.jpg\n",
      "https://live.staticflickr.com/7251/7698695676_1b78957fef_k.jpg\n",
      "https://live.staticflickr.com/8152/7698695150_0e25010a61_k.jpg\n",
      "https://live.staticflickr.com/7239/7383869172_a78b49831e_b.jpg\n",
      "https://live.staticflickr.com/7217/7272883404_86731e1006_h.jpg\n",
      "https://live.staticflickr.com/5018/5470150779_5f524a70a6_c.jpg\n",
      "https://live.staticflickr.com/5292/5470743270_85477a8de3_c.jpg\n",
      "https://live.staticflickr.com/4145/4837185843_6c8e173a48_3k.jpg\n",
      "https://live.staticflickr.com/4148/4837795514_50665cce82_3k.jpg\n",
      "https://live.staticflickr.com/4112/4837793390_4736051db6_3k.jpg\n",
      "https://live.staticflickr.com/4150/4837792822_468f77e347_3k.jpg\n",
      "https://live.staticflickr.com/4091/4837792172_c1658d1149_3k.jpg\n",
      "https://live.staticflickr.com/4110/4837791308_5429a00d6a_3k.jpg\n",
      "https://live.staticflickr.com/4139/4771404516_e3c30df85a_b.jpg\n",
      "https://live.staticflickr.com/1095/4725035874_bb2bdc5754_b.jpg\n",
      "https://live.staticflickr.com/3011/2304763516_1991f13719_m.jpg\n",
      "https://live.staticflickr.com/2105/2089098864_f0684e1056_c.jpg\n"
     ]
    }
   ],
   "source": [
    "photos = search.find('photos').findall('photo')\n",
    "for photo in photos:\n",
    "    photo_id = photo.items()[0][1]\n",
    "    info = flickr.photos.getSizes(photo_id =photo_id)\n",
    "    # print(etree.tostring(info,pretty_print=True))\n",
    "    src = info.find('sizes').findall('size')[-3]\n",
    "    img_url = dict(src.items())['source']\n",
    "    print(img_url)"
   ]
  },
  {
   "cell_type": "code",
   "execution_count": 19,
   "metadata": {},
   "outputs": [
    {
     "name": "stdout",
     "output_type": "stream",
     "text": [
      "photos\n"
     ]
    }
   ],
   "source": []
  },
  {
   "cell_type": "code",
   "execution_count": null,
   "metadata": {},
   "outputs": [],
   "source": []
  }
 ],
 "metadata": {
  "kernelspec": {
   "display_name": "Python 3",
   "language": "python",
   "name": "python3"
  },
  "language_info": {
   "codemirror_mode": {
    "name": "ipython",
    "version": 3
   },
   "file_extension": ".py",
   "mimetype": "text/x-python",
   "name": "python",
   "nbconvert_exporter": "python",
   "pygments_lexer": "ipython3",
   "version": "3.5.2"
  }
 },
 "nbformat": 4,
 "nbformat_minor": 2
}
