{
 "cells": [
  {
   "cell_type": "code",
   "execution_count": 1,
   "metadata": {},
   "outputs": [],
   "source": [
    "import os\n",
    "import shutil\n",
    "query_dir = \"/mnt/datasets/kakao_queries/\"\n"
   ]
  },
  {
   "cell_type": "code",
   "execution_count": 7,
   "metadata": {},
   "outputs": [
    {
     "name": "stdout",
     "output_type": "stream",
     "text": [
      "36.3597637,127.3794009\n",
      "36.3601601,127.3774559\n",
      "36.361345,127.3781288\n",
      "36.3632062,127.3793755\n",
      "36.364755,127.3747227\n",
      "36.3611873,127.3779206\n",
      "36.3624834,127.3793725\n",
      "36.3637301,127.3743691\n",
      "36.3647026,127.3790124\n",
      "36.3608947,127.3743727\n",
      "36.3561933,127.3684007\n",
      "36.3622397,127.3768836\n",
      "36.3620967,127.379357\n",
      "36.3623685,127.3743784\n",
      "36.3605254,127.3684581\n",
      "36.3578597,127.3777083\n",
      "36.3647302,127.3767926\n",
      "36.3627943,127.3793717\n",
      "36.3647401,127.3758753\n",
      "36.364304,127.3766866\n",
      "36.3622712,127.3782365\n",
      "36.3619789,127.376635\n",
      "36.3648455,127.3738869\n",
      "36.36298,127.3766394\n",
      "36.3595378,127.3743609\n",
      "36.3614371,127.3793928\n",
      "36.3663115,127.3766607\n",
      "36.3673845,127.3750756\n",
      "36.370069,127.3794817\n",
      "36.3620375,127.3743757\n",
      "36.3647488,127.3757361\n",
      "36.3578645,127.3781939\n",
      "36.3637777,127.3793801\n",
      "36.362479,127.3650697\n",
      "36.3558933,127.3700733\n",
      "36.3591559,127.3793987\n",
      "36.3614289,127.3632127\n",
      "36.3620036,127.3781296\n",
      "36.367964,127.3794632\n",
      "36.367359,127.375362\n",
      "36.3648456,127.373667\n",
      "36.3578211,127.3748421\n",
      "36.3611665,127.3794234\n",
      "36.3622352,127.3775264\n",
      "36.3598183,127.3708595\n",
      "36.3647861,127.3751906\n",
      "36.3624551,127.3766802\n",
      "36.3682724,127.3794657\n",
      "36.3647356,127.3764027\n",
      "36.3648405,127.3741047\n",
      "36.3604196,127.3766321\n",
      "36.3698218,127.3794794\n",
      "36.3673834,127.375191\n",
      "36.3578622,127.3786844\n",
      "36.3647707,127.3780364\n",
      "36.3673482,127.3756478\n",
      "36.3578053,127.3725741\n",
      "36.3673854,127.3749435\n",
      "36.3578772,127.374535\n",
      "36.3632669,127.374373\n",
      "36.3586036,127.3743592\n",
      "36.3647452,127.3745544\n",
      "36.3598509,127.3775414\n",
      "36.361461,127.3766355\n",
      "36.3660578,127.3766598\n",
      "36.3581327,127.379396\n",
      "36.3647033,127.3784641\n",
      "36.3681399,127.379464\n",
      "36.362658,127.3766739\n",
      "36.3673468,127.3755201\n",
      "36.3578455,127.3765734\n",
      "36.3674031,127.3742103\n",
      "36.3674449,127.3740328\n",
      "36.3578493,127.3774228\n",
      "36.3622699,127.3789\n",
      "36.3658393,127.3766491\n",
      "36.3622652,127.3691958\n",
      "36.3616009,127.3743738\n",
      "36.35553,127.3691991\n",
      "36.3622649,127.3698867\n",
      "36.3601585,127.3794065\n",
      "36.35894,127.3743644\n",
      "36.3600061,127.3684088\n",
      "36.3579283,127.3792551\n",
      "36.3615842,127.3684116\n",
      "36.3604853,127.3794105\n",
      "36.3609929,127.3774843\n",
      "36.3598573,127.3761779\n",
      "36.3647325,127.3775624\n",
      "36.3571723,127.3684376\n",
      "36.3561559,127.3703989\n",
      "36.3696307,127.379476\n",
      "36.3629968,127.3677919\n",
      "36.3602443,127.3684557\n",
      "36.3676451,127.3737612\n",
      "36.3643142,127.3793989\n",
      "36.359857,127.374879\n",
      "36.355535,127.3694352\n",
      "36.3625921,127.3681353\n",
      "36.3600899,127.3743654\n",
      "36.3587362,127.3793979\n"
     ]
    },
    {
     "ename": "FileNotFoundError",
     "evalue": "[Errno 2] No such file or directory: '/mnt/datasets/kakao_queries/kakao_queries.csv'",
     "output_type": "error",
     "traceback": [
      "\u001b[0;31m---------------------------------------------------------------------------\u001b[0m",
      "\u001b[0;31mFileNotFoundError\u001b[0m                         Traceback (most recent call last)",
      "\u001b[0;32m<ipython-input-7-333449f38850>\u001b[0m in \u001b[0;36m<module>\u001b[0;34m\u001b[0m\n\u001b[1;32m     15\u001b[0m     \u001b[0mindex\u001b[0m \u001b[0;34m+=\u001b[0m \u001b[0;36m1\u001b[0m\u001b[0;34m\u001b[0m\u001b[0m\n\u001b[1;32m     16\u001b[0m \u001b[0mindex_file\u001b[0m \u001b[0;34m=\u001b[0m \u001b[0;34m\"kakao_queries.csv\"\u001b[0m\u001b[0;34m\u001b[0m\u001b[0m\n\u001b[0;32m---> 17\u001b[0;31m \u001b[0;32mwith\u001b[0m \u001b[0mopen\u001b[0m\u001b[0;34m(\u001b[0m\u001b[0mos\u001b[0m\u001b[0;34m.\u001b[0m\u001b[0mpath\u001b[0m\u001b[0;34m.\u001b[0m\u001b[0mjoin\u001b[0m\u001b[0;34m(\u001b[0m\u001b[0mquery_dir\u001b[0m\u001b[0;34m,\u001b[0m \u001b[0mindex_file\u001b[0m\u001b[0;34m)\u001b[0m\u001b[0;34m)\u001b[0m \u001b[0;32mas\u001b[0m \u001b[0mfo\u001b[0m\u001b[0;34m:\u001b[0m\u001b[0;34m\u001b[0m\u001b[0m\n\u001b[0m\u001b[1;32m     18\u001b[0m     \u001b[0;32mfor\u001b[0m \u001b[0mtup\u001b[0m \u001b[0;32min\u001b[0m \u001b[0mindexes\u001b[0m\u001b[0;34m:\u001b[0m\u001b[0;34m\u001b[0m\u001b[0m\n\u001b[1;32m     19\u001b[0m         \u001b[0mfo\u001b[0m\u001b[0;34m.\u001b[0m\u001b[0mwrite\u001b[0m\u001b[0;34m(\u001b[0m\u001b[0mstr\u001b[0m\u001b[0;34m(\u001b[0m\u001b[0mtup\u001b[0m\u001b[0;34m[\u001b[0m\u001b[0;36m0\u001b[0m\u001b[0;34m]\u001b[0m\u001b[0;34m)\u001b[0m \u001b[0;34m+\u001b[0m \u001b[0;34m','\u001b[0m \u001b[0;34m+\u001b[0m \u001b[0mstr\u001b[0m\u001b[0;34m(\u001b[0m\u001b[0mtup\u001b[0m\u001b[0;34m[\u001b[0m\u001b[0;36m1\u001b[0m\u001b[0;34m]\u001b[0m\u001b[0;34m)\u001b[0m \u001b[0;34m+\u001b[0m \u001b[0;34m','\u001b[0m \u001b[0;34m+\u001b[0m \u001b[0mstr\u001b[0m\u001b[0;34m(\u001b[0m\u001b[0mtup\u001b[0m\u001b[0;34m[\u001b[0m\u001b[0;36m2\u001b[0m\u001b[0;34m]\u001b[0m\u001b[0;34m)\u001b[0m\u001b[0;34m)\u001b[0m\u001b[0;34m\u001b[0m\u001b[0m\n",
      "\u001b[0;31mFileNotFoundError\u001b[0m: [Errno 2] No such file or directory: '/mnt/datasets/kakao_queries/kakao_queries.csv'"
     ]
    }
   ],
   "source": [
    "filenames = os.listdir(query_dir)\n",
    "index = 0\n",
    "indexes = []\n",
    "for f in filenames:\n",
    "    # remove .png and seprate latlng\n",
    "    latlng = f[:-4]\n",
    "    print(latlng)\n",
    "    lat, lng = latlng.split(',')\n",
    "    lat = float(lat)\n",
    "    lng = float(lng)\n",
    "    indexes.append((index, lat, lng))\n",
    "    old_file_name = os.path.join(query_dir,f)\n",
    "    new_file_name = os.path.join(query_dir,str(index)+'.png')\n",
    "    os.rename(old_file_name, new_file_name)\n",
    "    index += 1"
   ]
  },
  {
   "cell_type": "code",
   "execution_count": 8,
   "metadata": {},
   "outputs": [],
   "source": [
    "index_file = \"kakao_queries.csv\"\n",
    "with open(os.path.join(query_dir, index_file),'w') as fo:\n",
    "    for tup in indexes:\n",
    "        fo.write(str(tup[0]) + ',' + str(tup[1]) + ',' + str(tup[2]))\n",
    "        fo.write('\\n')"
   ]
  },
  {
   "cell_type": "code",
   "execution_count": 11,
   "metadata": {},
   "outputs": [],
   "source": [
    "import numpy as np\n",
    "query_vec_dir = \"/mnt/datasets/kakao_queries_delf_vlad256/\"\n",
    "filenames = os.listdir(query_vec_dir)\n",
    "indexes = []\n",
    "vectors = []\n",
    "for f in filenames:\n",
    "    indexes.append(f.split('.')[0])\n",
    "    vector = np.load(os.path.join(query_vec_dir,f))\n",
    "    vectors.append(vector)"
   ]
  },
  {
   "cell_type": "code",
   "execution_count": 13,
   "metadata": {},
   "outputs": [],
   "source": [
    "np.save(os.path.join(query_vec_dir,\"queries\"), vectors)\n",
    "np.save(os.path.join(query_vec_dir,\"indexes\"), indexes)"
   ]
  },
  {
   "cell_type": "code",
   "execution_count": null,
   "metadata": {},
   "outputs": [],
   "source": []
  }
 ],
 "metadata": {
  "kernelspec": {
   "display_name": "Python 3",
   "language": "python",
   "name": "python3"
  },
  "language_info": {
   "codemirror_mode": {
    "name": "ipython",
    "version": 3
   },
   "file_extension": ".py",
   "mimetype": "text/x-python",
   "name": "python",
   "nbconvert_exporter": "python",
   "pygments_lexer": "ipython3",
   "version": "3.5.2"
  }
 },
 "nbformat": 4,
 "nbformat_minor": 2
}
