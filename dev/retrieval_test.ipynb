{
 "cells": [
  {
   "cell_type": "code",
   "execution_count": 3,
   "metadata": {},
   "outputs": [],
   "source": [
    "import ImageRepresentation\n",
    "from rsift_extraction import _GetSingleImageFeature\n",
    "import numpy as np\n",
    "import cv2 as cv\n",
    "import os\n",
    "from delf import feature_io\n",
    "%matplotlib inline\n",
    "from matplotlib import pyplot as plt\n",
    "from matplotlib import image as img\n",
    "query_dir = \"/home/canhld/workplace/Daejeon_street_view/datasets/daejeon_sv_v1_query_delf/\"\n",
    "query_images_dir = \"/home/canhld/workplace/Daejeon_street_view/datasets/daejeon_sv_v1_query_full/\"\n",
    "database_dir = \"/home/canhld/workplace/Daejeon_street_view/datasets/daejeon_sv_v1_vlad256_delf/\"\n",
    "image_dir = \"/home/canhld/workplace/Daejeon_street_view/datasets/daejeon_sv_v1/\"\n",
    "saved_model = \"/home/canhld/workplace/Daejeon_street_view/datasets/codebook/delf_256_model.pkl\""
   ]
  },
  {
   "cell_type": "code",
   "execution_count": 4,
   "metadata": {},
   "outputs": [
    {
     "name": "stdout",
     "output_type": "stream",
     "text": [
      "(256, 40)\n"
     ]
    }
   ],
   "source": [
    "ir = ImageRepresentation.ImageRepresentation(name = 'delf_vlad', saved_model = saved_model )\n",
    "print(ir.codebook.cluster_centers_.shape)"
   ]
  },
  {
   "cell_type": "code",
   "execution_count": 6,
   "metadata": {
    "scrolled": true
   },
   "outputs": [
    {
     "name": "stderr",
     "output_type": "stream",
     "text": [
      "W0903 20:27:49.365473 140704851302144 deprecation.py:323] From /home/canhld/workplace/models/research/delf/delf/python/feature_io.py:171: FastGFile.__init__ (from tensorflow.python.platform.gfile) is deprecated and will be removed in a future version.\n",
      "Instructions for updating:\n",
      "Use tf.gfile.GFile.\n"
     ]
    },
    {
     "name": "stdout",
     "output_type": "stream",
     "text": [
      "(10240,)\n",
      "(10240,)\n",
      "(10240,)\n",
      "(10240,)\n",
      "(10240,)\n",
      "(10240,)\n",
      "(10240,)\n",
      "(10240,)\n",
      "(10240,)\n",
      "(10240,)\n",
      "(10240,)\n",
      "(10240,)\n",
      "(10240,)\n",
      "(10240,)\n",
      "(10240,)\n",
      "(10240,)\n",
      "(10240,)\n",
      "(10240,)\n",
      "(10240,)\n",
      "(10240,)\n",
      "(10240,)\n",
      "(10240,)\n",
      "(10240,)\n",
      "(10240,)\n",
      "(10240,)\n",
      "(10240,)\n",
      "(10240,)\n",
      "(10240,)\n",
      "(10240,)\n",
      "(10240,)\n",
      "(10240,)\n",
      "(10240,)\n",
      "(10240,)\n",
      "(10240,)\n",
      "(10240,)\n",
      "(10240,)\n",
      "(10240,)\n",
      "(10240,)\n",
      "(10240,)\n",
      "(10240,)\n",
      "(10240,)\n",
      "(10240,)\n",
      "(10240,)\n",
      "(10240,)\n",
      "(10240,)\n"
     ]
    }
   ],
   "source": [
    "query_vectors = []\n",
    "queries = []\n",
    "query_images = []\n",
    "# for f in os.listdir(query_dir):\n",
    "#     filename, ext = f.split('.')\n",
    "#     if ext == 'JPG' or ext == 'jpg':\n",
    "#         queries.append(filename)\n",
    "#         im = cv.imread(os.path.join(query_dir, f), flags=cv.IMREAD_UNCHANGED)\n",
    "#         query_images.append(cv.cvtColor(im, cv.COLOR_RGB2BGR))\n",
    "#         gray = cv.cvtColor(im, cv.COLOR_RGB2GRAY)\n",
    "#         features = _GetSingleImageFeature(gray)[1]\n",
    "#         bow_vector = ir.VLADEncode(features)\n",
    "#         query_vectors.append(bow_vector)\n",
    "\n",
    "for f in os.listdir(query_dir):\n",
    "    filename, ext = f.split('.')\n",
    "    if ext == 'DELF' or ext == 'delf':\n",
    "        queries.append(filename)\n",
    "        im = cv.imread(os.path.join(query_images_dir, filename + '.jpg'), flags=cv.IMREAD_UNCHANGED)\n",
    "        query_images.append(cv.cvtColor(im, cv.COLOR_RGB2BGR))\n",
    "        _,_,features,_,_ = feature_io.ReadFromFile(os.path.join(query_dir, f))\n",
    "        vector = ir.VLADEncode(features)\n",
    "        query_vectors.append(vector)"
   ]
  },
  {
   "cell_type": "code",
   "execution_count": 7,
   "metadata": {},
   "outputs": [],
   "source": [
    "database = []\n",
    "indexes = []\n",
    "for f in os.listdir(database_dir):\n",
    "    filename = f.split('.')\n",
    "    vector = np.load(os.path.join(database_dir, f), allow_pickle=True)\n",
    "    indexes.append(filename[0])\n",
    "    database.append(vector)"
   ]
  },
  {
   "cell_type": "code",
   "execution_count": 8,
   "metadata": {},
   "outputs": [],
   "source": [
    "# plt.subplot() \n",
    "# query_name = \"IMG_0419\"\n",
    "# query_index = 0\n",
    "# for query_index in range(len(queries)):\n",
    "#     if queries[query_index] == query_name:\n",
    "#         break\n",
    "# test_query = queries[query_index]\n",
    "# test_vector = query_vectors[query_index]\n",
    "# test_image = query_images[query_index]\n",
    "# rank_list = []\n",
    "# for vector, index in zip(database,indexes):\n",
    "#     rank_list.append((index, np.dot(vector, test_vector)))\n",
    "# rank_list.sort(key = lambda tup: tup[1], reverse=True)\n",
    "# print(\"Query %s\" % test_query)\n",
    "# plt.axis('off')\n",
    "# plt.imshow(test_image)\n",
    "# plt.show()\n",
    "# print(\"Retrieval top-5 result:\")\n",
    "# plt.figure(figsize=(20,8))\n",
    "# for i in range(10):\n",
    "#     print(rank_list[i])\n",
    "#     im = img.imread(os.path.join(image_dir, rank_list[i][0] + '.jpg'))\n",
    "#     plt.subplot(2,5,i+1) \n",
    "#     plt.axis('off')\n",
    "#     plt.imshow(im)\n",
    "# plt.show()"
   ]
  },
  {
   "cell_type": "code",
   "execution_count": 9,
   "metadata": {
    "scrolled": false
   },
   "outputs": [
    {
     "name": "stdout",
     "output_type": "stream",
     "text": [
      "[['IMG_0420', '1878', '2051', '1877', '2310', '1963', '1791', '2309', '2137', '2310', '1879'], ['IMG_0431', '65', '64', '1955', '1954', '1609', '62', '63', '234', '66', '664'], ['IMG_0415', '1068', '1067', '981', '984', '1156', '1156', '1068', '1067', '983', '980'], ['IMG_0419', '2049', '2049', '2136', '1963', '2136', '2050', '2137', '1878', '2051', '1877'], ['IMG_0398', '2664', '2750', '2922', '2662', '3088', '3253', '1019', '3094', '1019', '3088'], ['IMG_0413', '2007', '1842', '1325', '2039', '1955', '1756', '1609', '1781', '1755', '1958'], ['IMG_0405', '3151', '3153', '3153', '2982', '3155', '3152', '3327', '3155', '3070', '3152'], ['IMG_0394', '2982', '3327', '3155', '2982', '3155', '3070', '2982', '3327', '3327', '2185'], ['IMG_0421', '1020', '1019', '1107', '1014', '1107', '1019', '1015', '1020', '1019', '1016'], ['IMG_0402', '2235', '1373', '1460', '2234', '1288', '1374', '1460', '1373', '1546', '2407'], ['IMG_0397', '2922', '2835', '2749', '932', '2750', '2749', '1015', '3008', '3045', '2835'], ['IMG_0425', '945', '1201', '857', '942', '857', '945', '943', '1117', '942', '940'], ['IMG_0395', '1955', '1955', '2042', '3141', '1735', '3159', '1871', '2042', '3502', '1453'], ['IMG_0435', '2230', '1878', '3137', '1297', '2050', '1133', '973', '1304', '993', '1134'], ['IMG_0407', '1955', '1954', '1871', '2042', '1960', '1957', '1872', '1958', '1956', '1942'], ['IMG_0429', '930', '929', '928', '929', '930', '928', '845', '1017', '933', '926'], ['IMG_0399', '2662', '2140', '101', '108', '2663', '2660', '2662', '626', '2661', '1019'], ['IMG_0401', '1366', '1719', '2750', '1974', '1200', '1374', '1365', '1373', '1537', '1975'], ['IMG_0426', '600', '772', '774', '426', '774', '514', '428', '772', '342', '256'], ['IMG_0422', '1019', '1020', '1020', '1107', '932', '1019', '1019', '1104', '1015', '1014'], ['IMG_0434', '2051', '1963', '3137', '1212', '935', '2137', '2050', '973', '974', '1133'], ['IMG_0392', '3145', '3147', '3139', '3138', '3234', '3139', '3146', '3145', '3148', '3144'], ['IMG_0417', '1138', '1073', '985', '986', '1073', '1380', '1895', '986', '1292', '1068'], ['IMG_0427', '774', '600', '772', '514', '772', '426', '774', '687', '686', '600'], ['IMG_0408', '1944', '1945', '1946', '3139', '3148', '3143', '1948', '1947', '3149', '3151'], ['IMG_0403', '3166', '3165', '3164', '2077', '3136', '65', '2996', '1609', '3163', '62'], ['IMG_0416', '2013', '1907', '1927', '2012', '2079', '1382', '2079', '3244', '2013', '1991'], ['IMG_0400', '2663', '2662', '2662', '2661', '2663', '2661', '1279', '2660', '2664', '2503'], ['IMG_0404', '2813', '2899', '2641', '2813', '3415', '3244', '2727', '2076', '2249', '2899'], ['IMG_0393', '3145', '1791', '3148', '3147', '3055', '3144', '3137', '2383', '3234', '3138'], ['IMG_0418', '1000', '1085', '996', '997', '1083', '1001', '625', '1983', '997', '1092'], ['IMG_0432', '1072', '985', '908', '1075', '906', '987', '1159', '1004', '933', '933'], ['IMG_0396', '66', '3149', '2727', '3161', '2002', '3160', '1999', '3672', '65', '1957'], ['IMG_0424', '1460', '1546', '1547', '1547', '1546', '1374', '1373', '1631', '1289', '1374'], ['IMG_0411', '1928', '1992', '2014', '2013', '1735', '1928', '2012', '1821', '2005', '3150'], ['IMG_0410', '1931', '1932', '1951', '1931', '1950', '1949', '1929', '1949', '1929', '1948'], ['IMG_0412', '2185', '2187', '2098', '2187', '2099', '2272', '2098', '2185', '2185', '2187'], ['IMG_0409', '1931', '1932', '1930', '1950', '1931', '1929', '1930', '1951', '1949', '1929'], ['IMG_0414', '1067', '1068', '1067', '983', '980', '1068', '1067', '984', '1155', '982'], ['IMG_0430', '62', '65', '64', '63', '66', '60', '148', '3375', '61', '3203'], ['IMG_0433', '1137', '1059', '973', '1138', '973', '1229', '1060', '1143', '1499', '1059'], ['IMG_0423', '1631', '1546', '1631', '1547', '1718', '1374', '1546', '1547', '1461', '1718'], ['IMG_0428', '929', '928', '930', '926', '928', '933', '927', '929', '927', '1017'], ['IMG_0406', '1960', '2985', '2899', '2727', '66', '3160', '3290', '3203', '65', '1955'], ['IMG_0391', '1992', '130', '3299', '3299', '3385', '625', '3299', '3213', '3386', '625']]\n"
     ]
    }
   ],
   "source": [
    "predicts = []\n",
    "for query,image,query_vector in zip(queries, query_images, query_vectors):\n",
    "    rank_list = []\n",
    "    predict = []\n",
    "    predict.append(query)\n",
    "    for vector, index in zip(database,indexes):\n",
    "        rank_list.append((index, np.dot(vector, query_vector)))\n",
    "    rank_list.sort(key = lambda tup: tup[1], reverse=True)\n",
    "    for i in range(10):\n",
    "        predict.append(rank_list[i][0][:-6])\n",
    "    predicts.append(predict)\n",
    "print(predicts)"
   ]
  },
  {
   "cell_type": "code",
   "execution_count": 14,
   "metadata": {},
   "outputs": [
    {
     "name": "stdout",
     "output_type": "stream",
     "text": [
      "[0.62222222 0.73333333 0.77777778 0.84444444 0.84444444 0.84444444\n",
      " 0.84444444 0.88888889 0.88888889 0.88888889]\n"
     ]
    }
   ],
   "source": [
    "ref_file = \"/home/canhld/workplace/Daejeon_street_view/datasets/daejeon_sv_v1_query_60m.csv\"\n",
    "with open(ref_file) as f:\n",
    "    contents = f.readlines()\n",
    "lines = [x.strip('\\n') for x in contents]\n",
    "ref = dict()\n",
    "for line in lines:\n",
    "    tup = line.split(',')\n",
    "    ref[tup[0]] = set(tup[1:])\n",
    "results = []\n",
    "for predict in predicts:\n",
    "    result = []\n",
    "    query = predict[0]\n",
    "#     result.append(query)\n",
    "    rank_list = predict[1:]\n",
    "    first_correct = 0\n",
    "    for item in rank_list:\n",
    "        if item in ref[query]:\n",
    "#             result.append(1)\n",
    "            for i in range(first_correct, len(rank_list)):\n",
    "                result.append(1)\n",
    "            break\n",
    "        else:\n",
    "            result.append(0)\n",
    "            first_correct += 1\n",
    "    results.append(np.array(result))\n",
    "recall = np.array([0]*10)\n",
    "for result in results:\n",
    "    recall += result\n",
    "recall = recall/float(len(queries))\n",
    "print(recall)"
   ]
  },
  {
   "cell_type": "code",
   "execution_count": null,
   "metadata": {},
   "outputs": [],
   "source": []
  },
  {
   "cell_type": "code",
   "execution_count": null,
   "metadata": {},
   "outputs": [],
   "source": []
  }
 ],
 "metadata": {
  "kernelspec": {
   "display_name": "Python 3",
   "language": "python",
   "name": "python3"
  },
  "language_info": {
   "codemirror_mode": {
    "name": "ipython",
    "version": 3
   },
   "file_extension": ".py",
   "mimetype": "text/x-python",
   "name": "python",
   "nbconvert_exporter": "python",
   "pygments_lexer": "ipython3",
   "version": "3.5.2"
  }
 },
 "nbformat": 4,
 "nbformat_minor": 2
}
