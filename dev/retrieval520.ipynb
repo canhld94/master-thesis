{
 "cells": [
  {
   "cell_type": "code",
   "execution_count": 30,
   "metadata": {},
   "outputs": [],
   "source": [
    "import ImageRepresentation\n",
    "import ThesisToolkit\n",
    "from ThesisToolkit import FeaturesIOToolkit as featuresIO\n",
    "import numpy as np\n",
    "import cv2 as cv\n",
    "import os\n",
    "import joblib\n",
    "%matplotlib inline\n",
    "from matplotlib import pyplot as plt \n",
    "from matplotlib import image as img"
   ]
  },
  {
   "cell_type": "code",
   "execution_count": 59,
   "metadata": {},
   "outputs": [],
   "source": [
    "query_path = \"/mnt/datasets/kakao_queries_delf_vlad256/queries.npy\"\n",
    "query_index_path = \"/mnt/datasets/kakao_queries_delf_vlad256/indexes.npy\"\n",
    "query_image_dir = \"/mnt/datasets/kakao_queries/\"\n",
    "database_path = \"/mnt/datasets/daejeon520_vlad256_delf/database.npy\"\n",
    "database_index_path = \"/mnt/datasets/daejeon520_vlad256_delf/indexes.npy\"\n",
    "database_image_dir = \"/mnt/datasets/daejeon520/\"\n",
    "codebook_model = \"/mnt/datasets/codebook_520/delf_256_model_epoc_0.pkl\""
   ]
  },
  {
   "cell_type": "code",
   "execution_count": 32,
   "metadata": {},
   "outputs": [
    {
     "name": "stdout",
     "output_type": "stream",
     "text": [
      "(101, 10240)\n"
     ]
    }
   ],
   "source": [
    "queries = np.load(query_path)\n",
    "query_indexes = np.load(query_index_path)\n",
    "database = np.load(database_path)\n",
    "database_indexes = np.load(database_index_path)\n",
    "print(queries.shape)"
   ]
  },
  {
   "cell_type": "code",
   "execution_count": 70,
   "metadata": {},
   "outputs": [],
   "source": [
    "def retrieve(query_index, query, top_ranks = 50):\n",
    "    scores = np.dot(database, query)\n",
    "    indices = np.argpartition(-scores, kth=range(top_ranks))[:top_ranks]\n",
    "    rank_list = database_indexes[indices]\n",
    "    return rank_list\n",
    "\n",
    "ref_file = \"/mnt/datasets/kakao_queries_30m.csv\"\n",
    "with open(ref_file) as f:\n",
    "    contents = f.readlines()\n",
    "lines = [x.strip('\\n') for x in contents]\n",
    "ref = dict()\n",
    "for line in lines:\n",
    "    tup = line.split(',')\n",
    "    ref[tup[0]] = set(tup[1:])"
   ]
  },
  {
   "cell_type": "code",
   "execution_count": 81,
   "metadata": {
    "scrolled": true
   },
   "outputs": [
    {
     "name": "stdout",
     "output_type": "stream",
     "text": [
      "[ 0.02382684  0.01026541  0.02246    ... -0.00992623  0.00057672\n",
      "  0.00049451]\n",
      "39\n",
      "Retrieval result:\n",
      "_kHg6J9QL2LENDgvII5aK4w_3 0\n",
      "_b5B3PtprplM6aKURap7ttg_3 0\n",
      "_MRptcv94Hu1NAGLqTrqyTQ_3 0\n",
      "_JZ_UZVSJ3Foi6jg53n4AeA_3 0\n",
      "_MRptcv94Hu1NAGLqTrqyTQ_4 0\n",
      "_0HZsuA9vD94tUvgwwfncbg_1 0\n",
      "_9oL7Ft60ampAAe5Y4jaLyA_3 0\n",
      "_OGAwV4lP5fpxIsAkI_VPLw_0 0\n",
      "_beqyIBqMoRE_iMUYQ1mBnw_3 0\n",
      "_EVU1g5o2Saf3zS5-TdNuRg_3 0\n",
      "_ee40znGr6sKofKj0vOn2Ag_4 0\n",
      "_EVU1g5o2Saf3zS5-TdNuRg_0 0\n",
      "_OTNvgGRtNRZDKovbbq1KMQ_3 0\n",
      "_tdJ8bUPVTZcc3hcx0vnFPQ_0 0\n",
      "_OIQ4U0oxCdV5zcWxnY8VVw_0 0\n",
      "_MRptcv94Hu1NAGLqTrqyTQ_1 0\n",
      "_4DA29QK-G6VR1ngQ4BbyzA_1 0\n",
      "_8yFo5mURqrtGR4NvWxMwzg_3 0\n",
      "_VNzty9e1gf-2FEvN6_QRpQ_0 0\n",
      "_wvDcVFwOrI3_S3mz5aGrVQ_4 0\n",
      "_C5Nvl1zT40ycnwn1MZlOdg_3 0\n",
      "_uwhp5KbXdVFlPlRz9MA8aQ_1 0\n",
      "_kHg6J9QL2LENDgvII5aK4w_1 0\n",
      "_kHg6J9QL2LENDgvII5aK4w_4 0\n",
      "_S-X7QoMx2IL8KclK36lRrw_7 0\n",
      "_EIdhyfe3zU9sBTrGLkOTDw_0 0\n",
      "_2xfr_3H94rHviZcrpl7ieg_0 0\n",
      "_SrUlEPt-Ny9k9kpILW7nXg_0 0\n",
      "_1YLldlMJDwCuL4YM5tjbPQ_0 0\n",
      "_PRtvlYJH0RpK0QvZ7qLyFA_4 0\n",
      "_X1mPbSqGKpfDzY-LSL_oYQ_3 0\n",
      "_DF1TW_34HZYrV9M1Nu-qsg_0 0\n",
      "_ZEtvSQJz_LePr1gilcdjmQ_4 0\n",
      "_OTNvgGRtNRZDKovbbq1KMQ_0 0\n",
      "_EYvTrsayA0zwxv6nGayT6Q_1 0\n",
      "_C5Nvl1zT40ycnwn1MZlOdg_4 0\n",
      "_8yFo5mURqrtGR4NvWxMwzg_0 0\n",
      "_OIQ4U0oxCdV5zcWxnY8VVw_3 0\n",
      "_beqyIBqMoRE_iMUYQ1mBnw_1 0\n",
      "_8yFo5mURqrtGR4NvWxMwzg_4 0\n",
      "_fSFVG_NYPVrL2U50K5tG7Q_4 0\n",
      "_0HZsuA9vD94tUvgwwfncbg_3 0\n",
      "_mAQq0FkuA46NMxuhxbNQnQ_0 0\n",
      "_84vnn0SywNAjxtDG7YPsBg_4 0\n",
      "_EIdhyfe3zU9sBTrGLkOTDw_1 0\n",
      "_4DA29QK-G6VR1ngQ4BbyzA_4 0\n",
      "_9XYbmKYPweMJ0XC-r5uOfA_4 0\n",
      "_OTNvgGRtNRZDKovbbq1KMQ_4 0\n",
      "_hVmJu7RFiSIxfp_4V5BJMA_1 0\n",
      "_1QiGWOFzIE-1oCKpAIiUDA_1 0\n"
     ]
    }
   ],
   "source": [
    "# single image test\n",
    "test_index = 37\n",
    "print(queries[test_index])\n",
    "rank_list = retrieve(query_indexes[test_index], queries[test_index])\n",
    "print(query_indexes[test_index])\n",
    "print(\"Retrieval result:\")\n",
    "for i in range(len(rank_list)):\n",
    "    if(rank_list[i][:-2] in ref[query_indexes[test_index]]):\n",
    "        print(rank_list[i],1)\n",
    "    else:\n",
    "        print(rank_list[i],0)"
   ]
  },
  {
   "cell_type": "code",
   "execution_count": 43,
   "metadata": {},
   "outputs": [
    {
     "name": "stdout",
     "output_type": "stream",
     "text": [
      "(259016, 101)\n"
     ]
    }
   ],
   "source": [
    "# large scale benchmark\n",
    "scores = np.dot(database, np.transpose(queries))\n",
    "print(scores.shape)"
   ]
  },
  {
   "cell_type": "code",
   "execution_count": 44,
   "metadata": {},
   "outputs": [
    {
     "name": "stdout",
     "output_type": "stream",
     "text": [
      "(259016, 101)\n",
      "(101, 50)\n"
     ]
    }
   ],
   "source": [
    "# a = np.array([[0,1,3,2,4,6,5],[0,1,2,4,5,6,3]])\n",
    "# s = np.argpartition(-a, kth=range(4), axis=1)\n",
    "# print(s)\n",
    "# # s = s.T[:3].T\n",
    "# # print(s)\n",
    "# b = np.array([1,2,3,4,5,6,7,8])\n",
    "# print(b[s])\n",
    "\n",
    "top_rank = 50\n",
    "indices = np.argpartition(-scores, kth=range(top_rank), axis=0)\n",
    "print(indices.shape)\n",
    "sort_lists = indices[:top_rank].T\n",
    "rank_lists = database_indexes[sort_lists]\n",
    "print(rank_lists.shape)"
   ]
  },
  {
   "cell_type": "code",
   "execution_count": 69,
   "metadata": {
    "scrolled": false
   },
   "outputs": [
    {
     "name": "stdout",
     "output_type": "stream",
     "text": [
      "65 13 3 0 20\n",
      "[0.64356436 0.71287129 0.74257426 0.74257426 0.77227723 0.77227723\n",
      " 0.77227723 0.78217822 0.8019802  0.8019802  0.8019802  0.8019802\n",
      " 0.8019802  0.8019802  0.8019802  0.8019802  0.8019802  0.8019802\n",
      " 0.8019802  0.8019802 ]\n",
      "[0.64356436 0.61881188 0.56765677 0.54207921 0.51683168 0.48514851\n",
      " 0.45968883 0.44554455 0.42464246 0.40594059 0.39063906 0.37128713\n",
      " 0.35567403 0.3437058  0.33333333 0.32487624 0.31683168 0.30693069\n",
      " 0.2970297  0.28960396]\n"
     ]
    },
    {
     "data": {
      "text/plain": [
       "[<matplotlib.lines.Line2D at 0x7f8127d64978>]"
      ]
     },
     "execution_count": 69,
     "metadata": {},
     "output_type": "execute_result"
    },
    {
     "data": {
      "image/png": "[encoded data removed]",
      "text/plain": [
       "<Figure size 720x576 with 4 Axes>"
      ]
     },
     "metadata": {
      "needs_background": "light"
     },
     "output_type": "display_data"
    }
   ],
   "source": [
    "# Create true-false array from predict\n",
    "results = []\n",
    "for index, rank_list in zip(query_indexes, rank_lists):\n",
    "    result = []\n",
    "    for item in rank_list:\n",
    "        if item[:-2] in ref[index]:\n",
    "            result.append(1)\n",
    "        else:\n",
    "            result.append(0)\n",
    "    results.append(np.array(result))\n",
    "\n",
    "# list of heat map query\n",
    "top_1_list = [] # list of query that have correct image at top-1\n",
    "top_5_list = []\n",
    "top_10_list = []\n",
    "top_20_list = []\n",
    "failed_list = []\n",
    "# Recall calculation:\n",
    "recall_results = []\n",
    "for index, result in zip(query_indexes, results):\n",
    "    recall_result = []\n",
    "    first_correct = 0\n",
    "    for item in result:\n",
    "        if item == 1:\n",
    "            for i in range(first_correct, len(result)):\n",
    "                recall_result.append(1)\n",
    "            break\n",
    "        else:\n",
    "            recall_result.append(0)\n",
    "            first_correct += 1\n",
    "    if first_correct <= 0:\n",
    "        top_1_list.append(index)\n",
    "    elif first_correct > 0 and first_correct <= 4:\n",
    "        top_5_list.append(index)\n",
    "    elif first_correct > 4 and first_correct <= 9:\n",
    "        top_10_list.append(index)\n",
    "    elif first_correct > 9 and first_correct <= 19:\n",
    "        top_20_list.append(index)\n",
    "    else: \n",
    "        failed_list.append(index)\n",
    "    recall_results.append(np.array(recall_result))\n",
    "print(len(top_1_list), len(top_5_list), len(top_10_list), len(top_20_list), len(failed_list))\n",
    "\n",
    "top_retrieval = 20\n",
    "recall = np.array([0]*top_retrieval)\n",
    "for recall_result in recall_results:\n",
    "    recall += recall_result[:top_retrieval]\n",
    "recall = recall/float(len(queries))\n",
    "print(recall)\n",
    "\n",
    "# Precision\n",
    "precision = []\n",
    "precision_rank = np.array([0]*top_retrieval)\n",
    "for result in results:\n",
    "    precision_rank += result[:top_retrieval]\n",
    "s = 0\n",
    "for i in range(0,len(precision_rank)):\n",
    "    s += precision_rank[i]\n",
    "    \n",
    "    precision.append(s/((i+1)*len(queries)))\n",
    "print(np.array(precision))\n",
    "import matplotlib\n",
    "from matplotlib import pyplot as plt\n",
    "%matplotlib inline\n",
    "fig, axes = plt.subplots(2, 2)\n",
    "fig.set_size_inches(10,8)\n",
    "axes[0,0].plot(recall)\n",
    "axes[0,1].plot(precision)\n",
    "axes[1,0].plot(recall, precision, marker = \"o\")"
   ]
  },
  {
   "cell_type": "code",
   "execution_count": 65,
   "metadata": {},
   "outputs": [],
   "source": [
    "import shutil\n",
    "from shutil import copy2\n",
    "# load all database location to the mem\n",
    "database_loc_file = \"/mnt/datasets/daejeon520.csv\"\n",
    "with open(database_loc_file, 'r') as fi:\n",
    "    contents = fi.readlines()\n",
    "lines = [line.strip('\\n') for line in contents]\n",
    "database_locs = {}\n",
    "for line in lines:\n",
    "    tup = line.split(',')\n",
    "    database_locs[tup[0]] = (tup[1], tup[2])\n",
    "# create the result:\n",
    "result_dir = \"/mnt/datasets/kakao_result/\"\n",
    "if not os.path.exists(result_dir):\n",
    "    os.makedirs(result_dir)\n",
    "top_K = 5\n",
    "for index, rank_list, result in zip(query_indexes, rank_lists, results):\n",
    "    # create the folder for this query\n",
    "    q_dir = os.path.join(result_dir, str(index))\n",
    "    if not os.path.exists(q_dir):\n",
    "        os.makedirs(q_dir)\n",
    "    else:\n",
    "        shutil.rmtree(q_dir)\n",
    "        os.makedirs(q_dir)\n",
    "    # copy query image to the q_dir\n",
    "    copy2(os.path.join(query_image_dir, str(index) + '.jpg'), q_dir)\n",
    "    for i in range(top_K):\n",
    "        copy2(os.path.join(database_image_dir, rank_list[i] + '.jpg'), q_dir)\n",
    "    with open(os.path.join(q_dir, \"index.csv\"),\"w\") as fo:\n",
    "        for i in range(top_K):\n",
    "            latlng = database_locs[rank_list[i][:-2]]\n",
    "            fo.write(rank_list[i] + ',' + str(latlng[0]) + ',' + str(latlng[1]) + ',' + str(result[i]))\n",
    "            fo.write(\"\\n\")\n"
   ]
  },
  {
   "cell_type": "code",
   "execution_count": null,
   "metadata": {},
   "outputs": [],
   "source": []
  }
 ],
 "metadata": {
  "kernelspec": {
   "display_name": "Python 3",
   "language": "python",
   "name": "python3"
  },
  "language_info": {
   "codemirror_mode": {
    "name": "ipython",
    "version": 3
   },
   "file_extension": ".py",
   "mimetype": "text/x-python",
   "name": "python",
   "nbconvert_exporter": "python",
   "pygments_lexer": "ipython3",
   "version": "3.5.2"
  }
 },
 "nbformat": 4,
 "nbformat_minor": 2
}
